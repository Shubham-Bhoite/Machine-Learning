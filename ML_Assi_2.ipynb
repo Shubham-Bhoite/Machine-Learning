{
  "cells": [
    {
      "cell_type": "markdown",
      "metadata": {
        "id": "view-in-github",
        "colab_type": "text"
      },
      "source": [
        "<a href=\"https://colab.research.google.com/github/Shubham-Bhoite/Machine-Learning/blob/main/ML_Assi_2.ipynb\" target=\"_parent\"><img src=\"https://colab.research.google.com/assets/colab-badge.svg\" alt=\"Open In Colab\"/></a>"
      ]
    },
    {
      "cell_type": "code",
      "execution_count": null,
      "id": "9897ba37",
      "metadata": {
        "id": "9897ba37"
      },
      "outputs": [],
      "source": [
        "import pandas as pd\n",
        "import numpy as np\n",
        "import seaborn as sns\n",
        "import matplotlib.pyplot as plt\n",
        "from sklearn.model_selection import train_test_split\n",
        "from sklearn.svm import SVC, LinearSVC\n",
        "from sklearn.neighbors import KNeighborsClassifier\n",
        "from sklearn import metrics\n",
        "from sklearn import preprocessing"
      ]
    },
    {
      "cell_type": "markdown",
      "id": "efea5d66",
      "metadata": {
        "id": "efea5d66"
      },
      "source": [
        "## **Loading the Dataset**\n",
        "First we load the dataset and find out the number of columns, rows, NULL values, etc."
      ]
    },
    {
      "cell_type": "code",
      "execution_count": null,
      "id": "b8724836",
      "metadata": {
        "id": "b8724836"
      },
      "outputs": [],
      "source": [
        "df = pd.read_csv('/content/emails.csv')"
      ]
    },
    {
      "cell_type": "code",
      "execution_count": null,
      "id": "0f5a4410",
      "metadata": {
        "id": "0f5a4410"
      },
      "outputs": [],
      "source": [
        "df.info()"
      ]
    },
    {
      "cell_type": "code",
      "execution_count": null,
      "id": "7b1f87e2",
      "metadata": {
        "scrolled": true,
        "id": "7b1f87e2"
      },
      "outputs": [],
      "source": [
        "df.head()"
      ]
    },
    {
      "cell_type": "code",
      "execution_count": null,
      "id": "72fe78d1",
      "metadata": {
        "id": "72fe78d1"
      },
      "outputs": [],
      "source": [
        "df.dtypes"
      ]
    },
    {
      "cell_type": "markdown",
      "id": "8ec1361e",
      "metadata": {
        "id": "8ec1361e"
      },
      "source": [
        "## **Cleaning**"
      ]
    },
    {
      "cell_type": "code",
      "execution_count": null,
      "id": "34bb6bfe",
      "metadata": {
        "id": "34bb6bfe"
      },
      "outputs": [],
      "source": [
        "df.drop(columns=['Email No.'], inplace=True)"
      ]
    },
    {
      "cell_type": "code",
      "execution_count": null,
      "id": "3064950e",
      "metadata": {
        "scrolled": true,
        "id": "3064950e"
      },
      "outputs": [],
      "source": [
        "df.isna().sum()"
      ]
    },
    {
      "cell_type": "code",
      "execution_count": null,
      "id": "6de021c2",
      "metadata": {
        "scrolled": false,
        "id": "6de021c2"
      },
      "outputs": [],
      "source": [
        "df.describe()"
      ]
    },
    {
      "cell_type": "markdown",
      "id": "45cfdae7",
      "metadata": {
        "id": "45cfdae7"
      },
      "source": [
        "# **Separating the features and the labels**"
      ]
    },
    {
      "cell_type": "code",
      "execution_count": null,
      "id": "a39eacd4",
      "metadata": {
        "id": "a39eacd4"
      },
      "outputs": [],
      "source": [
        "X=df.iloc[:, :df.shape[1]-1]       #Independent Variables\n",
        "y=df.iloc[:, -1]                   #Dependent Variable\n",
        "X.shape, y.shape"
      ]
    },
    {
      "cell_type": "markdown",
      "id": "8bc517f5",
      "metadata": {
        "id": "8bc517f5"
      },
      "source": [
        "# **Splitting the Dataset**\n",
        "Training and Test Set"
      ]
    },
    {
      "cell_type": "code",
      "execution_count": null,
      "id": "78e2bccb",
      "metadata": {
        "id": "78e2bccb"
      },
      "outputs": [],
      "source": [
        "X_train, X_test, y_train, y_test = train_test_split(X, y, test_size=0.15, random_state=8)"
      ]
    },
    {
      "cell_type": "markdown",
      "id": "3c8fd3dd",
      "metadata": {
        "id": "3c8fd3dd"
      },
      "source": [
        "# **Machine Learning models**"
      ]
    },
    {
      "cell_type": "markdown",
      "id": "80cdefc2",
      "metadata": {
        "id": "80cdefc2"
      },
      "source": [
        "The following 5 models are used:\n",
        "1. K-Nearest Neighbors\n",
        "2. Linear SVM\n",
        "3. Polynomial SVM\n",
        "4. RBF SVM\n",
        "5. Sigmoid SVM"
      ]
    },
    {
      "cell_type": "code",
      "execution_count": null,
      "id": "26f38c21",
      "metadata": {
        "scrolled": true,
        "id": "26f38c21"
      },
      "outputs": [],
      "source": [
        "models = {\n",
        "    \"K-Nearest Neighbors\": KNeighborsClassifier(n_neighbors=2),\n",
        "    \"Linear SVM\":LinearSVC(random_state=8, max_iter=900000),\n",
        "    \"Polynomical SVM\":SVC(kernel=\"poly\", degree=2, random_state=8),\n",
        "    \"RBF SVM\":SVC(kernel=\"rbf\", random_state=8),\n",
        "    \"Sigmoid SVM\":SVC(kernel=\"sigmoid\", random_state=8)\n",
        "}"
      ]
    },
    {
      "cell_type": "markdown",
      "id": "9db4cb18",
      "metadata": {
        "id": "9db4cb18"
      },
      "source": [
        "## **Fit and predict on each model**\n",
        "\n",
        "Each model is trained using the train set and predictions are made based on the test set. Accuracy scores are calculated for each model."
      ]
    },
    {
      "cell_type": "code",
      "execution_count": null,
      "id": "34738959",
      "metadata": {
        "colab": {
          "base_uri": "https://localhost:8080/"
        },
        "id": "34738959",
        "outputId": "2887b8ba-907a-4d89-b044-524988baa4b5"
      },
      "outputs": [
        {
          "output_type": "stream",
          "name": "stdout",
          "text": [
            "Accuracy for K-Nearest Neighbors model \t: 0.8878865979381443\n",
            "Accuracy for Linear SVM model \t: 0.9755154639175257\n",
            "Accuracy for Polynomical SVM model \t: 0.7615979381443299\n",
            "Accuracy for RBF SVM model \t: 0.8182989690721649\n"
          ]
        }
      ],
      "source": [
        "for model_name, model in models.items():\n",
        "    y_pred=model.fit(X_train, y_train).predict(X_test)\n",
        "    print(f\"Accuracy for {model_name} model \\t: {metrics.accuracy_score(y_test, y_pred)}\")"
      ]
    }
  ],
  "metadata": {
    "kernelspec": {
      "display_name": "Python 3 (ipykernel)",
      "language": "python",
      "name": "python3"
    },
    "language_info": {
      "codemirror_mode": {
        "name": "ipython",
        "version": 3
      },
      "file_extension": ".py",
      "mimetype": "text/x-python",
      "name": "python",
      "nbconvert_exporter": "python",
      "pygments_lexer": "ipython3",
      "version": "3.10.4"
    },
    "colab": {
      "provenance": [],
      "include_colab_link": true
    }
  },
  "nbformat": 4,
  "nbformat_minor": 5
}